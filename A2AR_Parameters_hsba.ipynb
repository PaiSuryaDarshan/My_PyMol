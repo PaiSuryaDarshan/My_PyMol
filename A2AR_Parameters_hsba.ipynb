{
 "cells": [
  {
   "cell_type": "markdown",
   "metadata": {},
   "source": [
    "# Haylee Style Binding Analysis (hsba) Parameters"
   ]
  },
  {
   "cell_type": "markdown",
   "metadata": {},
   "source": [
    "## 1. Adenosine"
   ]
  },
  {
   "cell_type": "code",
   "execution_count": null,
   "metadata": {},
   "outputs": [],
   "source": [
    "filename = \"pdb2ydo.pdb\"\n",
    "\n",
    "Name_of_ligand = \"ADN\" \n",
    "Ligand_residue_number = 400\n",
    "\n",
    "radius_of_binding = 8\n",
    "representation_pocket = \"lines\"\n",
    "\n",
    "radius_of_water = 4\n",
    "representation_water = \"nb_spheres\"\n",
    "\n",
    "Name_of_Full_binding_pocket = \"Binding_pocket\"\n",
    "\n",
    "Obj_property_to_Hide = \"everything\"\n",
    "Obj_name_to_hide = filename[:-4]\n",
    "\n",
    "representation_to_hide = \"cartoon\"\n",
    "Obj_whose_cartoon_you_want_to_Hide = \"Binding_pocket\"\n",
    "\n",
    "Obj_name_to_delete = filename[:-4]\n"
   ]
  },
  {
   "cell_type": "markdown",
   "metadata": {},
   "source": [
    "## 2. NECA"
   ]
  },
  {
   "cell_type": "code",
   "execution_count": null,
   "metadata": {},
   "outputs": [],
   "source": [
    "filename = \"pdb2ydv.pdb\"\n",
    "\n",
    "Name_of_ligand = \"NECA\" \n",
    "Ligand_residue_number = 400\n",
    "\n",
    "radius_of_binding = 8\n",
    "representation_pocket = \"lines\"\n",
    "\n",
    "radius_of_water = 4\n",
    "representation_water = \"nb_spheres\"\n",
    "\n",
    "Name_of_Full_binding_pocket = \"Binding_pocket\"\n",
    "\n",
    "Obj_property_to_Hide = \"everything\"\n",
    "Obj_name_to_hide = filename[:-4]\n",
    "\n",
    "representation_to_hide = \"cartoon\"\n",
    "Obj_whose_cartoon_you_want_to_Hide = \"Binding_pocket\"\n",
    "\n",
    "Obj_name_to_delete = filename[:-4]\n"
   ]
  },
  {
   "cell_type": "markdown",
   "metadata": {},
   "source": [
    "## 3. Adenosine"
   ]
  },
  {
   "cell_type": "code",
   "execution_count": null,
   "metadata": {},
   "outputs": [],
   "source": [
    "filename = \"pdb2ydo.pdb\"\n",
    "\n",
    "Name_of_ligand = \"ADN\" \n",
    "Ligand_residue_number = 400\n",
    "\n",
    "radius_of_binding = 8\n",
    "representation_pocket = \"lines\"\n",
    "\n",
    "radius_of_water = 4\n",
    "representation_water = \"nb_spheres\"\n",
    "\n",
    "Name_of_Full_binding_pocket = \"Binding_pocket\"\n",
    "\n",
    "Obj_property_to_Hide = \"everything\"\n",
    "Obj_name_to_hide = filename[:-4]\n",
    "\n",
    "representation_to_hide = \"cartoon\"\n",
    "Obj_whose_cartoon_you_want_to_Hide = \"Binding_pocket\"\n",
    "\n",
    "Obj_name_to_delete = filename[:-4]\n"
   ]
  }
 ],
 "metadata": {
  "kernelspec": {
   "display_name": "Academic_data_handling",
   "language": "python",
   "name": "python3"
  },
  "language_info": {
   "name": "python",
   "version": "3.12.4"
  }
 },
 "nbformat": 4,
 "nbformat_minor": 2
}
